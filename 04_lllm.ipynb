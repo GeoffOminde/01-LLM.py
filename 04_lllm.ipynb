{
 "cells": [
  {
   "cell_type": "markdown",
   "id": "b5e07c7b",
   "metadata": {},
   "source": [
    "# 📘 RAG System with FAISS & OpenAI\n",
    "This notebook demonstrates how to build a Retrieval-Augmented Generation (RAG) system using FAISS, LangChain, and OpenAI GPT."
   ]
  },
  {
   "cell_type": "code",
   "execution_count": 20,
   "id": "36d89985",
   "metadata": {},
   "outputs": [],
   "source": [
    "\n",
    "# 📚 Step 1: Import libraries\n",
    "import os\n",
    "import pandas as pd\n",
    "import matplotlib.pyplot as plt\n",
    "from sklearn.decomposition import PCA\n",
    "\n",
    "\n",
    "from openai import OpenAI\n",
    "from langchain.embeddings.openai import OpenAIEmbeddings\n",
    "from langchain.vectorstores import FAISS\n",
    "from langchain.text_splitter import RecursiveCharacterTextSplitter\n",
    "from langchain.docstore.document import Document\n"
   ]
  },
  {
   "cell_type": "code",
   "execution_count": 21,
   "id": "6572bc32",
   "metadata": {},
   "outputs": [],
   "source": [
    "\n",
    "# 🔑 Step 2: Setup API key\n",
    "OPENAI_API_KEY = os.getenv(\"OPENAI_API_KEY\")\n",
    "client = OpenAI(api_key=OPENAI_API_KEY)\n"
   ]
  },
  {
   "cell_type": "code",
   "execution_count": 22,
   "id": "36cf4a70",
   "metadata": {},
   "outputs": [
    {
     "name": "stdout",
     "output_type": "stream",
     "text": [
      "✅ Sample CSV created successfully!\n"
     ]
    }
   ],
   "source": [
    "\n",
    "# 📊 Step 3: Load dataset\n",
    "import pandas as pd\n",
    "\n",
    "data = {\n",
    "    \"Title\": [\"Intro to AI\", \"Machine Learning Basics\"],\n",
    "    \"Content\": [\n",
    "        \"This document explains AI concepts and applications.\",\n",
    "        \"Machine learning is a subset of AI focusing on data-driven predictions.\"\n",
    "    ],\n",
    "    \"Tags\": [\"AI, Intro\", \"ML, Basics\"],\n",
    "    \"Source\": [\"SampleDoc1\", \"SampleDoc2\"]\n",
    "}\n",
    "\n",
    "df = pd.DataFrame(data)\n",
    "df.to_csv(\"04LLM.csv\", index=False)\n",
    "print(\"✅ Sample CSV created successfully!\")\n",
    "\n",
    "\n",
    "\n"
   ]
  },
  {
   "cell_type": "code",
   "execution_count": 23,
   "id": "70989bdd",
   "metadata": {},
   "outputs": [
    {
     "name": "stdout",
     "output_type": "stream",
     "text": [
      "Total chunks: 2\n"
     ]
    },
    {
     "data": {
      "text/plain": [
       "[Document(metadata={'Title': 'Intro to AI', 'Tags': 'AI, Intro', 'Source': 'SampleDoc1'}, page_content='This document explains AI concepts and applications.'),\n",
       " Document(metadata={'Title': 'Machine Learning Basics', 'Tags': 'ML, Basics', 'Source': 'SampleDoc2'}, page_content='Machine learning is a subset of AI focusing on data-driven predictions.')]"
      ]
     },
     "execution_count": 23,
     "metadata": {},
     "output_type": "execute_result"
    }
   ],
   "source": [
    "\n",
    "# 🔄 Step 4: Convert rows into LangChain Documents\n",
    "documents = [\n",
    "    Document(page_content=row[\"Content\"], metadata={\"Title\": row[\"Title\"], \"Tags\": row[\"Tags\"], \"Source\": row[\"Source\"]})\n",
    "    for _, row in df.iterrows()\n",
    "]\n",
    "\n",
    "# Split into smaller chunks\n",
    "splitter = RecursiveCharacterTextSplitter(chunk_size=300, chunk_overlap=50)\n",
    "docs = splitter.split_documents(documents)\n",
    "\n",
    "print(f\"Total chunks: {len(docs)}\")\n",
    "docs[:2]  # preview first 2\n"
   ]
  },
  {
   "cell_type": "code",
   "execution_count": 24,
   "id": "c78d58d5",
   "metadata": {},
   "outputs": [],
   "source": [
    "\n",
    "# 🧠 Step 5: Build FAISS index with embeddings\n",
    "from langchain.embeddings.base import Embeddings\n",
    "import numpy as np\n",
    "\n",
    "class FakeEmbeddings(Embeddings):\n",
    "    def embed_documents(self, texts):\n",
    "        return [np.random.rand(1536).tolist() for _ in texts]\n",
    "    def embed_query(self, text):\n",
    "        return np.random.rand(1536).tolist()\n",
    "\n",
    "embeddings = FakeEmbeddings()\n",
    "db = FAISS.from_documents(docs, embeddings)\n",
    "\n"
   ]
  },
  {
   "cell_type": "code",
   "execution_count": 25,
   "id": "1b1a87a9",
   "metadata": {},
   "outputs": [
    {
     "name": "stdout",
     "output_type": "stream",
     "text": [
      "📄 Title: Intro to AI\n",
      "🔎 Content: This document explains AI concepts and applications.\n",
      "--------------------------------------------------------------------------------\n",
      "📄 Title: Machine Learning Basics\n",
      "🔎 Content: Machine learning is a subset of AI focusing on data-driven predictions.\n",
      "--------------------------------------------------------------------------------\n"
     ]
    }
   ],
   "source": [
    "\n",
    "# 🔍 Step 6: Test retrieval\n",
    "query = \"What is RAG?\"\n",
    "results = db.similarity_search(query, k=2)\n",
    "\n",
    "for r in results:\n",
    "    print(f\"📄 Title: {r.metadata['Title']}\")\n",
    "    print(f\"🔎 Content: {r.page_content}\")\n",
    "    print(\"-\" * 80)\n"
   ]
  },
  {
   "cell_type": "code",
   "execution_count": 26,
   "id": "f862e6e5",
   "metadata": {},
   "outputs": [
    {
     "name": "stdout",
     "output_type": "stream",
     "text": [
      "⚠️ OpenAI API call failed: Error code: 429 - {'error': {'message': 'You exceeded your current quota, please check your plan and billing details. For more information on this error, read the docs: https://platform.openai.com/docs/guides/error-codes/api-errors.', 'type': 'insufficient_quota', 'param': None, 'code': 'insufficient_quota'}}\n",
      "[Mock Answer based on context: Machine Learning Basics: Machine learning is a sub...]\n"
     ]
    }
   ],
   "source": [
    "def rag_query(query: str):\n",
    "    results = db.similarity_search(query, k=2)\n",
    "    context = \"\\n\\n\".join([f\"{r.metadata.get('Title', 'NoTitle')}: {r.page_content}\" for r in results])\n",
    "    \n",
    "    try:\n",
    "        response = client.chat.completions.create(\n",
    "            model=\"gpt-3.5-turbo\",\n",
    "            messages=[\n",
    "                {\"role\": \"system\", \"content\": \"You are an assistant that answers using the retrieved context.\"},\n",
    "                {\"role\": \"user\", \"content\": f\"Context:\\n{context}\\n\\nQuestion: {query}\"}\n",
    "            ],\n",
    "            temperature=0.3,\n",
    "        )\n",
    "        return response.choices[0].message.content\n",
    "    except Exception as e:\n",
    "        print(f\"⚠️ OpenAI API call failed: {e}\")\n",
    "        # Return mock answer\n",
    "        return f\"[Mock Answer based on context: {context[:50]}...]\"\n",
    "\n",
    "# Test it\n",
    "answer = rag_query(\"Explain LangChain\")\n",
    "print(answer)"
   ]
  },
  {
   "cell_type": "code",
   "execution_count": 27,
   "id": "3b70395d",
   "metadata": {},
   "outputs": [
    {
     "name": "stderr",
     "output_type": "stream",
     "text": [
      "c:\\Users\\user\\Desktop\\PLP Projects\\Assignments\\01-LLM.py\\.venv\\Lib\\site-packages\\IPython\\core\\pylabtools.py:170: UserWarning: Glyph 128202 (\\N{BAR CHART}) missing from font(s) DejaVu Sans.\n",
      "  fig.canvas.print_figure(bytes_io, **kw)\n"
     ]
    },
    {
     "data": {
      "image/png": "[encoded data removed]",
      "text/plain": [
       "<Figure size 800x600 with 1 Axes>"
      ]
     },
     "metadata": {},
     "output_type": "display_data"
    }
   ],
   "source": [
    "\n",
    "# 📉 Step 8: Visualize embeddings with PCA\n",
    "# Get embeddings for all chunks\n",
    "vecs = [embeddings.embed_query(doc.page_content) for doc in docs]\n",
    "\n",
    "# Reduce dimensions with PCA\n",
    "pca = PCA(n_components=2)\n",
    "reduced = pca.fit_transform(vecs)\n",
    "\n",
    "# Scatter plot\n",
    "plt.figure(figsize=(8,6))\n",
    "plt.scatter(reduced[:,0], reduced[:,1], c=\"blue\", alpha=0.6)\n",
    "for i, doc in enumerate(docs):\n",
    "    plt.text(reduced[i,0]+0.02, reduced[i,1], doc.metadata[\"Title\"], fontsize=9)\n",
    "plt.title(\"📊 Embedding Visualization of Knowledge Base\")\n",
    "plt.xlabel(\"PCA 1\")\n",
    "plt.ylabel(\"PCA 2\")\n",
    "plt.show()\n"
   ]
  }
 ],
 "metadata": {
  "kernelspec": {
   "display_name": ".venv (3.13.5)",
   "language": "python",
   "name": "python3"
  },
  "language_info": {
   "codemirror_mode": {
    "name": "ipython",
    "version": 3
   },
   "file_extension": ".py",
   "mimetype": "text/x-python",
   "name": "python",
   "nbconvert_exporter": "python",
   "pygments_lexer": "ipython3",
   "version": "3.13.5"
  }
 },
 "nbformat": 4,
 "nbformat_minor": 5
}
